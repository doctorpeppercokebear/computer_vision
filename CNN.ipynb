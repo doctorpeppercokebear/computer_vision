{
  "nbformat": 4,
  "nbformat_minor": 0,
  "metadata": {
    "colab": {
      "provenance": [],
      "gpuType": "T4",
      "mount_file_id": "1_SNk3DvbuKF-D8vv5vnr3UvShOaCsyl5",
      "authorship_tag": "ABX9TyNjKk8mLSWiL4TB8PeLGs9x",
      "include_colab_link": true
    },
    "kernelspec": {
      "name": "python3",
      "display_name": "Python 3"
    },
    "language_info": {
      "name": "python"
    },
    "accelerator": "GPU"
  },
  "cells": [
    {
      "cell_type": "markdown",
      "metadata": {
        "id": "view-in-github",
        "colab_type": "text"
      },
      "source": [
        "<a href=\"https://colab.research.google.com/github/doctorpeppercokebear/computer_vision/blob/main/CNN.ipynb\" target=\"_parent\"><img src=\"https://colab.research.google.com/assets/colab-badge.svg\" alt=\"Open In Colab\"/></a>"
      ]
    },
    {
      "cell_type": "code",
      "execution_count": 1,
      "metadata": {
        "id": "36yjIkffRjvL",
        "colab": {
          "base_uri": "https://localhost:8080/"
        },
        "outputId": "cf7f8ab2-8c51-4f2f-c847-39455776aeec"
      },
      "outputs": [
        {
          "output_type": "stream",
          "name": "stdout",
          "text": [
            "Downloading data from https://storage.googleapis.com/tensorflow/tf-keras-datasets/train-labels-idx1-ubyte.gz\n",
            "29515/29515 [==============================] - 0s 0us/step\n",
            "Downloading data from https://storage.googleapis.com/tensorflow/tf-keras-datasets/train-images-idx3-ubyte.gz\n",
            "26421880/26421880 [==============================] - 0s 0us/step\n",
            "Downloading data from https://storage.googleapis.com/tensorflow/tf-keras-datasets/t10k-labels-idx1-ubyte.gz\n",
            "5148/5148 [==============================] - 0s 0us/step\n",
            "Downloading data from https://storage.googleapis.com/tensorflow/tf-keras-datasets/t10k-images-idx3-ubyte.gz\n",
            "4422102/4422102 [==============================] - 0s 0us/step\n"
          ]
        }
      ],
      "source": [
        "import numpy as np\n",
        "from tensorflow.keras.datasets import fashion_mnist\n",
        "\n",
        "(train_input, train_target), (test_input, test_target) = fashion_mnist.load_data()\n",
        "\n"
      ]
    },
    {
      "cell_type": "code",
      "source": [
        "print(len(train_input), train_input.shape)\n",
        "print(train_target[0])"
      ],
      "metadata": {
        "colab": {
          "base_uri": "https://localhost:8080/"
        },
        "id": "K2eoj2x-SMpA",
        "outputId": "f0666d93-2ad2-4fbe-9850-13c5922814bf"
      },
      "execution_count": 2,
      "outputs": [
        {
          "output_type": "stream",
          "name": "stdout",
          "text": [
            "60000 (60000, 28, 28)\n",
            "9\n"
          ]
        }
      ]
    },
    {
      "cell_type": "code",
      "source": [
        "import matplotlib.pyplot as plt\n",
        "\n",
        "print(train_input[0])\n",
        "plt.imshow(train_input[0], cmap='gray')\n",
        "\n",
        "plt.show()"
      ],
      "metadata": {
        "colab": {
          "base_uri": "https://localhost:8080/",
          "height": 1000
        },
        "id": "VLX_2ZaASlyo",
        "outputId": "d9119638-eaa8-4976-b1a0-e549446417ed"
      },
      "execution_count": 3,
      "outputs": [
        {
          "output_type": "stream",
          "name": "stdout",
          "text": [
            "[[  0   0   0   0   0   0   0   0   0   0   0   0   0   0   0   0   0   0\n",
            "    0   0   0   0   0   0   0   0   0   0]\n",
            " [  0   0   0   0   0   0   0   0   0   0   0   0   0   0   0   0   0   0\n",
            "    0   0   0   0   0   0   0   0   0   0]\n",
            " [  0   0   0   0   0   0   0   0   0   0   0   0   0   0   0   0   0   0\n",
            "    0   0   0   0   0   0   0   0   0   0]\n",
            " [  0   0   0   0   0   0   0   0   0   0   0   0   1   0   0  13  73   0\n",
            "    0   1   4   0   0   0   0   1   1   0]\n",
            " [  0   0   0   0   0   0   0   0   0   0   0   0   3   0  36 136 127  62\n",
            "   54   0   0   0   1   3   4   0   0   3]\n",
            " [  0   0   0   0   0   0   0   0   0   0   0   0   6   0 102 204 176 134\n",
            "  144 123  23   0   0   0   0  12  10   0]\n",
            " [  0   0   0   0   0   0   0   0   0   0   0   0   0   0 155 236 207 178\n",
            "  107 156 161 109  64  23  77 130  72  15]\n",
            " [  0   0   0   0   0   0   0   0   0   0   0   1   0  69 207 223 218 216\n",
            "  216 163 127 121 122 146 141  88 172  66]\n",
            " [  0   0   0   0   0   0   0   0   0   1   1   1   0 200 232 232 233 229\n",
            "  223 223 215 213 164 127 123 196 229   0]\n",
            " [  0   0   0   0   0   0   0   0   0   0   0   0   0 183 225 216 223 228\n",
            "  235 227 224 222 224 221 223 245 173   0]\n",
            " [  0   0   0   0   0   0   0   0   0   0   0   0   0 193 228 218 213 198\n",
            "  180 212 210 211 213 223 220 243 202   0]\n",
            " [  0   0   0   0   0   0   0   0   0   1   3   0  12 219 220 212 218 192\n",
            "  169 227 208 218 224 212 226 197 209  52]\n",
            " [  0   0   0   0   0   0   0   0   0   0   6   0  99 244 222 220 218 203\n",
            "  198 221 215 213 222 220 245 119 167  56]\n",
            " [  0   0   0   0   0   0   0   0   0   4   0   0  55 236 228 230 228 240\n",
            "  232 213 218 223 234 217 217 209  92   0]\n",
            " [  0   0   1   4   6   7   2   0   0   0   0   0 237 226 217 223 222 219\n",
            "  222 221 216 223 229 215 218 255  77   0]\n",
            " [  0   3   0   0   0   0   0   0   0  62 145 204 228 207 213 221 218 208\n",
            "  211 218 224 223 219 215 224 244 159   0]\n",
            " [  0   0   0   0  18  44  82 107 189 228 220 222 217 226 200 205 211 230\n",
            "  224 234 176 188 250 248 233 238 215   0]\n",
            " [  0  57 187 208 224 221 224 208 204 214 208 209 200 159 245 193 206 223\n",
            "  255 255 221 234 221 211 220 232 246   0]\n",
            " [  3 202 228 224 221 211 211 214 205 205 205 220 240  80 150 255 229 221\n",
            "  188 154 191 210 204 209 222 228 225   0]\n",
            " [ 98 233 198 210 222 229 229 234 249 220 194 215 217 241  65  73 106 117\n",
            "  168 219 221 215 217 223 223 224 229  29]\n",
            " [ 75 204 212 204 193 205 211 225 216 185 197 206 198 213 240 195 227 245\n",
            "  239 223 218 212 209 222 220 221 230  67]\n",
            " [ 48 203 183 194 213 197 185 190 194 192 202 214 219 221 220 236 225 216\n",
            "  199 206 186 181 177 172 181 205 206 115]\n",
            " [  0 122 219 193 179 171 183 196 204 210 213 207 211 210 200 196 194 191\n",
            "  195 191 198 192 176 156 167 177 210  92]\n",
            " [  0   0  74 189 212 191 175 172 175 181 185 188 189 188 193 198 204 209\n",
            "  210 210 211 188 188 194 192 216 170   0]\n",
            " [  2   0   0   0  66 200 222 237 239 242 246 243 244 221 220 193 191 179\n",
            "  182 182 181 176 166 168  99  58   0   0]\n",
            " [  0   0   0   0   0   0   0  40  61  44  72  41  35   0   0   0   0   0\n",
            "    0   0   0   0   0   0   0   0   0   0]\n",
            " [  0   0   0   0   0   0   0   0   0   0   0   0   0   0   0   0   0   0\n",
            "    0   0   0   0   0   0   0   0   0   0]\n",
            " [  0   0   0   0   0   0   0   0   0   0   0   0   0   0   0   0   0   0\n",
            "    0   0   0   0   0   0   0   0   0   0]]\n"
          ]
        },
        {
          "output_type": "display_data",
          "data": {
            "text/plain": [
              "<Figure size 640x480 with 1 Axes>"
            ],
            "image/png": "[encoded data removed]"
          },
          "metadata": {}
        }
      ]
    },
    {
      "cell_type": "markdown",
      "source": [
        "각 픽셀은  0~ 255 사이의 값을 가진다\n",
        "* 검은색은 0\n",
        "* 흰색은 255\n",
        "* 회색은 0 ~ 255 사이의 값"
      ],
      "metadata": {
        "id": "YQT2ZcTJTITf"
      }
    },
    {
      "cell_type": "code",
      "source": [
        "np.set_printoptions(linewidth=np.inf)\n",
        "print(train_input[0])"
      ],
      "metadata": {
        "colab": {
          "base_uri": "https://localhost:8080/"
        },
        "id": "skCoJr1LS1K6",
        "outputId": "88de9ba3-3b87-4089-dd93-167cc0519585"
      },
      "execution_count": 4,
      "outputs": [
        {
          "output_type": "stream",
          "name": "stdout",
          "text": [
            "[[  0   0   0   0   0   0   0   0   0   0   0   0   0   0   0   0   0   0   0   0   0   0   0   0   0   0   0   0]\n",
            " [  0   0   0   0   0   0   0   0   0   0   0   0   0   0   0   0   0   0   0   0   0   0   0   0   0   0   0   0]\n",
            " [  0   0   0   0   0   0   0   0   0   0   0   0   0   0   0   0   0   0   0   0   0   0   0   0   0   0   0   0]\n",
            " [  0   0   0   0   0   0   0   0   0   0   0   0   1   0   0  13  73   0   0   1   4   0   0   0   0   1   1   0]\n",
            " [  0   0   0   0   0   0   0   0   0   0   0   0   3   0  36 136 127  62  54   0   0   0   1   3   4   0   0   3]\n",
            " [  0   0   0   0   0   0   0   0   0   0   0   0   6   0 102 204 176 134 144 123  23   0   0   0   0  12  10   0]\n",
            " [  0   0   0   0   0   0   0   0   0   0   0   0   0   0 155 236 207 178 107 156 161 109  64  23  77 130  72  15]\n",
            " [  0   0   0   0   0   0   0   0   0   0   0   1   0  69 207 223 218 216 216 163 127 121 122 146 141  88 172  66]\n",
            " [  0   0   0   0   0   0   0   0   0   1   1   1   0 200 232 232 233 229 223 223 215 213 164 127 123 196 229   0]\n",
            " [  0   0   0   0   0   0   0   0   0   0   0   0   0 183 225 216 223 228 235 227 224 222 224 221 223 245 173   0]\n",
            " [  0   0   0   0   0   0   0   0   0   0   0   0   0 193 228 218 213 198 180 212 210 211 213 223 220 243 202   0]\n",
            " [  0   0   0   0   0   0   0   0   0   1   3   0  12 219 220 212 218 192 169 227 208 218 224 212 226 197 209  52]\n",
            " [  0   0   0   0   0   0   0   0   0   0   6   0  99 244 222 220 218 203 198 221 215 213 222 220 245 119 167  56]\n",
            " [  0   0   0   0   0   0   0   0   0   4   0   0  55 236 228 230 228 240 232 213 218 223 234 217 217 209  92   0]\n",
            " [  0   0   1   4   6   7   2   0   0   0   0   0 237 226 217 223 222 219 222 221 216 223 229 215 218 255  77   0]\n",
            " [  0   3   0   0   0   0   0   0   0  62 145 204 228 207 213 221 218 208 211 218 224 223 219 215 224 244 159   0]\n",
            " [  0   0   0   0  18  44  82 107 189 228 220 222 217 226 200 205 211 230 224 234 176 188 250 248 233 238 215   0]\n",
            " [  0  57 187 208 224 221 224 208 204 214 208 209 200 159 245 193 206 223 255 255 221 234 221 211 220 232 246   0]\n",
            " [  3 202 228 224 221 211 211 214 205 205 205 220 240  80 150 255 229 221 188 154 191 210 204 209 222 228 225   0]\n",
            " [ 98 233 198 210 222 229 229 234 249 220 194 215 217 241  65  73 106 117 168 219 221 215 217 223 223 224 229  29]\n",
            " [ 75 204 212 204 193 205 211 225 216 185 197 206 198 213 240 195 227 245 239 223 218 212 209 222 220 221 230  67]\n",
            " [ 48 203 183 194 213 197 185 190 194 192 202 214 219 221 220 236 225 216 199 206 186 181 177 172 181 205 206 115]\n",
            " [  0 122 219 193 179 171 183 196 204 210 213 207 211 210 200 196 194 191 195 191 198 192 176 156 167 177 210  92]\n",
            " [  0   0  74 189 212 191 175 172 175 181 185 188 189 188 193 198 204 209 210 210 211 188 188 194 192 216 170   0]\n",
            " [  2   0   0   0  66 200 222 237 239 242 246 243 244 221 220 193 191 179 182 182 181 176 166 168  99  58   0   0]\n",
            " [  0   0   0   0   0   0   0  40  61  44  72  41  35   0   0   0   0   0   0   0   0   0   0   0   0   0   0   0]\n",
            " [  0   0   0   0   0   0   0   0   0   0   0   0   0   0   0   0   0   0   0   0   0   0   0   0   0   0   0   0]\n",
            " [  0   0   0   0   0   0   0   0   0   0   0   0   0   0   0   0   0   0   0   0   0   0   0   0   0   0   0   0]]\n"
          ]
        }
      ]
    },
    {
      "cell_type": "markdown",
      "source": [
        "## 데이터 shape 형태 변환 및 정규화"
      ],
      "metadata": {
        "id": "dloaM83TTXbq"
      }
    },
    {
      "cell_type": "code",
      "source": [
        "train_scaled = train_input.reshape(-1,28,28,1) / 255.0    # 데이터 셋 정규화\n",
        "print(train_scaled.shape)"
      ],
      "metadata": {
        "colab": {
          "base_uri": "https://localhost:8080/"
        },
        "id": "atvxDuzvTDj2",
        "outputId": "b7e83a13-762b-4294-cb62-f3fea4e5481c"
      },
      "execution_count": 5,
      "outputs": [
        {
          "output_type": "stream",
          "name": "stdout",
          "text": [
            "(60000, 28, 28, 1)\n"
          ]
        }
      ]
    },
    {
      "cell_type": "code",
      "source": [
        "from sklearn.model_selection import train_test_split\n",
        "\n",
        "# 훈련 세트와 검증 세트로 분활\n",
        "train_scaled, val_scaled, train_target, val_target = train_test_split(train_scaled, train_target,\n",
        "                                                                      test_size=0.2, random_state=42)\n",
        "\n",
        "print(len(train_scaled))\n",
        "print(len(val_scaled))"
      ],
      "metadata": {
        "colab": {
          "base_uri": "https://localhost:8080/"
        },
        "id": "EwEQ0Q6fTqoi",
        "outputId": "0afa31be-2683-4bba-c364-a260a224ce7d"
      },
      "execution_count": 6,
      "outputs": [
        {
          "output_type": "stream",
          "name": "stdout",
          "text": [
            "48000\n",
            "12000\n"
          ]
        }
      ]
    },
    {
      "cell_type": "markdown",
      "source": [
        "### 합성곱 CNN 모델 생성을 위한 keras 모듈 추가\n"
      ],
      "metadata": {
        "id": "eoX-0x7Fwnhz"
      }
    },
    {
      "cell_type": "markdown",
      "source": [
        "* Sequential, Dense : layer 층 설계 및 추가\n",
        "* Dropout : 과적합 방지\n",
        "* Conv2D : 합성곱 연산\n",
        "* MaxPooling: 풀링층"
      ],
      "metadata": {
        "id": "ZVdk7DNOwybG"
      }
    },
    {
      "cell_type": "code",
      "source": [
        "from tensorflow.keras.models import Sequential\n",
        "from tensorflow.keras.layers import Dense, Dropout, Flatten\n",
        "from tensorflow.keras.layers import Conv2D, MaxPooling2D"
      ],
      "metadata": {
        "id": "N7qIkP9-ZK4D"
      },
      "execution_count": 7,
      "outputs": []
    },
    {
      "cell_type": "markdown",
      "source": [
        "### 합성곱층 추가"
      ],
      "metadata": {
        "id": "caZmviL5xRgj"
      }
    },
    {
      "cell_type": "code",
      "source": [
        "model = Sequential()\n",
        "model.add(Conv2D(32, kernel_size=3, activation = 'relu', padding='same', input_shape=(28,28,1)))"
      ],
      "metadata": {
        "id": "2dFR5GxXZnKS"
      },
      "execution_count": 8,
      "outputs": []
    },
    {
      "cell_type": "markdown",
      "source": [
        "### 풀링층 추가"
      ],
      "metadata": {
        "id": "VV-KVWQVxWEE"
      }
    },
    {
      "cell_type": "code",
      "source": [
        "model.add(MaxPooling2D(2))"
      ],
      "metadata": {
        "id": "kUaPXm04aAUA"
      },
      "execution_count": 9,
      "outputs": []
    },
    {
      "cell_type": "markdown",
      "source": [
        "### 2번 째 합성곱층 추가"
      ],
      "metadata": {
        "id": "qmsdulQuxjE7"
      }
    },
    {
      "cell_type": "code",
      "source": [
        "model.add(Conv2D(64, kernel_size=(3,3), activation = 'relu', padding='same'))"
      ],
      "metadata": {
        "id": "7I2pJZrPaKqT"
      },
      "execution_count": 10,
      "outputs": []
    },
    {
      "cell_type": "markdown",
      "source": [
        "### 2번 째 풀링층 추가"
      ],
      "metadata": {
        "id": "B9i0H3qHxq0x"
      }
    },
    {
      "cell_type": "code",
      "source": [
        "model.add(MaxPooling2D(2))"
      ],
      "metadata": {
        "id": "qrxrZ9DjaVsE"
      },
      "execution_count": 11,
      "outputs": []
    },
    {
      "cell_type": "markdown",
      "source": [
        "### 1차원 배열로 펼치기(flatten)"
      ],
      "metadata": {
        "id": "6VHr2u9EzwH-"
      }
    },
    {
      "cell_type": "code",
      "source": [
        "model.add(Flatten())"
      ],
      "metadata": {
        "id": "lxpu-AuHaaLL"
      },
      "execution_count": 12,
      "outputs": []
    },
    {
      "cell_type": "markdown",
      "source": [
        "### 은닉층, Dropout층 추가"
      ],
      "metadata": {
        "id": "LOqFsujaz4l-"
      }
    },
    {
      "cell_type": "code",
      "source": [
        "model.add(Dense(100, activation='relu'))\n",
        "model.add(Dropout(0.4))"
      ],
      "metadata": {
        "id": "EvJZHFsb0Fjv"
      },
      "execution_count": 13,
      "outputs": []
    },
    {
      "cell_type": "markdown",
      "source": [
        "### 출력층 뉴런 개수 설정 및 다중 분류에 따른 '소프트 맥스' 함수 사용"
      ],
      "metadata": {
        "id": "GTacIQ6Q0VxV"
      }
    },
    {
      "cell_type": "code",
      "source": [
        "model.add(Dense(10, activation='softmax'))\n",
        "model.summary()"
      ],
      "metadata": {
        "colab": {
          "base_uri": "https://localhost:8080/"
        },
        "id": "9imSZw-zwVZ7",
        "outputId": "3b9cf867-50f6-44b7-e4c7-aa55269f9fd6"
      },
      "execution_count": 14,
      "outputs": [
        {
          "output_type": "stream",
          "name": "stdout",
          "text": [
            "Model: \"sequential\"\n",
            "_________________________________________________________________\n",
            " Layer (type)                Output Shape              Param #   \n",
            "=================================================================\n",
            " conv2d (Conv2D)             (None, 28, 28, 32)        320       \n",
            "                                                                 \n",
            " max_pooling2d (MaxPooling2  (None, 14, 14, 32)        0         \n",
            " D)                                                              \n",
            "                                                                 \n",
            " conv2d_1 (Conv2D)           (None, 14, 14, 64)        18496     \n",
            "                                                                 \n",
            " max_pooling2d_1 (MaxPoolin  (None, 7, 7, 64)          0         \n",
            " g2D)                                                            \n",
            "                                                                 \n",
            " flatten (Flatten)           (None, 3136)              0         \n",
            "                                                                 \n",
            " dense (Dense)               (None, 100)               313700    \n",
            "                                                                 \n",
            " dropout (Dropout)           (None, 100)               0         \n",
            "                                                                 \n",
            " dense_1 (Dense)             (None, 10)                1010      \n",
            "                                                                 \n",
            "=================================================================\n",
            "Total params: 333526 (1.27 MB)\n",
            "Trainable params: 333526 (1.27 MB)\n",
            "Non-trainable params: 0 (0.00 Byte)\n",
            "_________________________________________________________________\n"
          ]
        }
      ]
    },
    {
      "cell_type": "markdown",
      "source": [
        "## 모델 컴파일\n",
        "* 모델을 컴퓨터가 이해할 수 있도록 컴파일하고 **효과적으로 규현될 수 있도록 여러 환경을 설정**\n",
        "  * optimizer: 훈렩과정 최적화\n",
        "  * loss : 훈련 과정에서 사용할 손실 함수 설정(loss function), 타깃과 예측값의 오차 계산\n",
        "  * metrice: 훈련을 모니터링 하기 위한 평가 지표 선택\n",
        "    * ex: metrics=['accuracy']"
      ],
      "metadata": {
        "id": "fqR3Ywhe0jKs"
      }
    },
    {
      "cell_type": "markdown",
      "source": [
        "***adam***:  \n",
        "\n",
        "SGD (Stochastic Gradient Descent)와 RMSProp (Root Mean Square Propagation) 알고리즘의 장점을 결합하여 빠른 수렴 속도와 안정적인 학습 과정을 제공\n",
        "\n",
        "작동방식:\n",
        "1. **모델 평가**: 현재 모델 가중치를 사용하여 훈련 데이터에 대한 모델 출력을 계산하고 손실 값을 계산합니다.\n",
        "2. **경사 계산**: 손실 함수에 대한 각 가중치의 편도 미분을 계산하여 현재 방향으로 얼마나 손실이 감소하는지 확인합니다.\n",
        "3. **경사 누적**: 이전 단계에서 계산된 경사 값을 가중치별 누적 평균인 m으로 업데이트합니다. Adam은 SGD와 달리 단순히 이전 단계의 경사 값만 사용하는 것이 아니라 과거 경사 값들의 가중치 평균을 사용하여 학습 속도를 안정화합니다.\n",
        "4. **평균 제곱 편차** 계산: 이전 단계에서 계산된 경사 값의 제곱 평균을 가중치별 누적 제곱 평균인 v으로 업데이트합니다. RMSProp과 유사하게 Adam은 과거 경사 값들의 제곱 평균을 사용하여 학습 속도를 조절합니다.\n",
        "5. **가중치 업데이트**: 다음 식을 사용하여 가중치를 업데이트합니다."
      ],
      "metadata": {
        "id": "nK5tHrRvdFyo"
      }
    },
    {
      "cell_type": "markdown",
      "source": [
        "***loss = 'sparse_categorical_crossentropy'***\n",
        "* 다중 분류 문제에서 레이블이 정수형 범주형 데이터인 경우 사용하는 손실 함수이다.\n",
        "  * 즉, 모델이 여러 개의 범주 중 하나를 예측하는 문제에서 사용된다.\n",
        "    * 이미지 분류: 이미지가 고양이, 개, 말 중 어떤 동물인지 예측하는 문제\n",
        "    * 감정 분석: 문장의 감정이 긍정, 부정, 중립 중 어떤지 예측하는 문제\n",
        "    * 스팸 필터링: 이메일이 정상 메일인지 스팸 메일인지 예측하는 문제\n",
        "\n",
        "**회귀:** 평균 제곱오차(MSE(Mean Squared Error)) 사용  \n",
        "**분류:**\n",
        "1. 크로스 엔트로피, 이진분류 -> binary_crossentropy\n",
        "2. 다중 분류\n",
        "  * categorical_crossentropy\n",
        "  * sparse_categorical_crossentropy"
      ],
      "metadata": {
        "id": "b1i7eSNAcW3l"
      }
    },
    {
      "cell_type": "code",
      "source": [
        "model.compile(optimizer = 'adam',   # 모멘텀(관성) 최적화 + RMSprop(보폭) 융합으로 적응적 학습률 최적화\n",
        "              loss = 'sparse_categorical_crossentropy', # 출력 데이터 y 가 원 핫 백터가 아니면서 Dense layer가 2개 이상일 때 사\n",
        "              metrics = ['accuracy'])   # 매 epoch 마다 손실과 함꼐 정확도 지표 출력"
      ],
      "metadata": {
        "id": "6Fos4sV91IIy"
      },
      "execution_count": 15,
      "outputs": []
    },
    {
      "cell_type": "markdown",
      "source": [
        "## 콜백 적용\n",
        "* 조기종료 : 과대적합(손실이 다시 증가되는 시점)을 막기 위해 훈련 미리 중지(에포크 제한)\n",
        "  * 케라스 EarlyStopping 콜백 함수 사용\n",
        "* **patience** 매개변수: 정확도가 더 이상 향상되지 않더라도 더 진행될 에포크 회수\n",
        "* **retore_best_weigths** 매개변수: True 지정 시 가장 낮은 손실을 낸 모델 가중치로 복구\n",
        "* **modelcheckpoinat** 와 **EarlyStopping** 함께 사용 시 최적 모델 파일로 저장하고 손실이 다시 증가될 때 미리 훈련 중지"
      ],
      "metadata": {
        "id": "nFAKe16-2IJh"
      }
    },
    {
      "cell_type": "code",
      "source": [
        "from tensorflow.keras.callbacks import ModelCheckpoint, EarlyStopping # 모델 저장, 조기종료\n",
        "\n",
        "checkpoinat_cb = ModelCheckpoint('/content/drive/MyDrive/nvidia_ai_academy/best-cnn-model.h6')   # 최적 검증 점수를 만드는 모델 자동 저장\n",
        "early_stopping_cb = EarlyStopping(patience=2, restore_best_weights=True)  # 과대 적합 방지 및 , 필요하지 않은 훈련 하지 않도록 조기 종료\n"
      ],
      "metadata": {
        "id": "CfXg-X5HfDNl"
      },
      "execution_count": 16,
      "outputs": []
    },
    {
      "cell_type": "markdown",
      "source": [
        "## 훈련 및 훈련 과정 모니터링"
      ],
      "metadata": {
        "id": "l0lr7khUfOk4"
      }
    },
    {
      "cell_type": "markdown",
      "source": [
        "\n",
        "\n",
        "1.   verbose=0 : 훈련과정 출력 되지 않음\n",
        "2.   verbose=0 : 훈련과정 진행막대와 손실등의 지표 출력\n",
        "3.   verbose=0 : 훈련과정 진행막대와 출력을 제외한 매 epoch의 손실 정확도만 출력\n"
      ],
      "metadata": {
        "id": "e1Ar2zVPjOiG"
      }
    },
    {
      "cell_type": "code",
      "source": [
        "history = model.fit(train_scaled, train_target, epochs=20, validation_data=(val_scaled, val_target), callbacks=[checkpoinat_cb, early_stopping_cb],verbose=1)"
      ],
      "metadata": {
        "colab": {
          "base_uri": "https://localhost:8080/"
        },
        "id": "d8TgPwX9i-zV",
        "outputId": "a5a85ae4-5558-4f1b-a6c6-5f39dcabd489"
      },
      "execution_count": 17,
      "outputs": [
        {
          "output_type": "stream",
          "name": "stdout",
          "text": [
            "Epoch 1/20\n",
            "1500/1500 [==============================] - 20s 9ms/step - loss: 0.5335 - accuracy: 0.8083 - val_loss: 0.3406 - val_accuracy: 0.8732\n",
            "Epoch 2/20\n",
            "1500/1500 [==============================] - 10s 7ms/step - loss: 0.3566 - accuracy: 0.8726 - val_loss: 0.2881 - val_accuracy: 0.8960\n",
            "Epoch 3/20\n",
            "1500/1500 [==============================] - 13s 9ms/step - loss: 0.3101 - accuracy: 0.8865 - val_loss: 0.2676 - val_accuracy: 0.9000\n",
            "Epoch 4/20\n",
            "1500/1500 [==============================] - 15s 10ms/step - loss: 0.2764 - accuracy: 0.9005 - val_loss: 0.2387 - val_accuracy: 0.9102\n",
            "Epoch 5/20\n",
            "1500/1500 [==============================] - 12s 8ms/step - loss: 0.2550 - accuracy: 0.9077 - val_loss: 0.2398 - val_accuracy: 0.9109\n",
            "Epoch 6/20\n",
            "1500/1500 [==============================] - 12s 8ms/step - loss: 0.2301 - accuracy: 0.9162 - val_loss: 0.2253 - val_accuracy: 0.9162\n",
            "Epoch 7/20\n",
            "1500/1500 [==============================] - 10s 7ms/step - loss: 0.2148 - accuracy: 0.9215 - val_loss: 0.2239 - val_accuracy: 0.9179\n",
            "Epoch 8/20\n",
            "1500/1500 [==============================] - 12s 8ms/step - loss: 0.2036 - accuracy: 0.9248 - val_loss: 0.2245 - val_accuracy: 0.9158\n",
            "Epoch 9/20\n",
            "1500/1500 [==============================] - 11s 7ms/step - loss: 0.1869 - accuracy: 0.9321 - val_loss: 0.2140 - val_accuracy: 0.9245\n",
            "Epoch 10/20\n",
            "1500/1500 [==============================] - 6s 4ms/step - loss: 0.1735 - accuracy: 0.9336 - val_loss: 0.2242 - val_accuracy: 0.9212\n",
            "Epoch 11/20\n",
            "1500/1500 [==============================] - 7s 5ms/step - loss: 0.1635 - accuracy: 0.9379 - val_loss: 0.2261 - val_accuracy: 0.9232\n"
          ]
        }
      ]
    },
    {
      "cell_type": "markdown",
      "source": [
        "### 손실그래프\n",
        "* 조기 종료가 잘 되었는지 확인"
      ],
      "metadata": {
        "id": "sjWlsSHNdsSx"
      }
    },
    {
      "cell_type": "code",
      "source": [
        "import matplotlib.pyplot as plt\n",
        "\n",
        "plt.plot(history.history['loss'])\n",
        "plt.plot(history.history['val_loss'])\n",
        "plt.xlabel('epoch')\n",
        "plt.ylabel('loss')\n",
        "plt.legend(['train', 'val'])\n",
        "plt.show()"
      ],
      "metadata": {
        "id": "jVaofikqjltM",
        "colab": {
          "base_uri": "https://localhost:8080/",
          "height": 453
        },
        "outputId": "751b77e1-fc4b-4296-eae1-dee263140743"
      },
      "execution_count": 18,
      "outputs": [
        {
          "output_type": "display_data",
          "data": {
            "text/plain": [
              "<Figure size 640x480 with 1 Axes>"
            ],
            "image/png": "[encoded data removed]"
          },
          "metadata": {}
        }
      ]
    },
    {
      "cell_type": "markdown",
      "source": [
        "### 성능평가\n",
        "* `evaluate`: 모델의 성능을 평가하는 메서드\n",
        "* `val_scaled`: 검증 데이터셋의 입력값(features)\n",
        "  * 모델의 일반화 성능을 측정하는데 사용\n",
        "* `val_target`: 검증 데이터셋의 실제 레이블(label), 정답값\n",
        "  * 모델의 예측값과 비교하여 성능을 평가"
      ],
      "metadata": {
        "id": "OFyyXGUTeSoA"
      }
    },
    {
      "cell_type": "code",
      "source": [
        "model.evaluate(val_scaled, val_target)"
      ],
      "metadata": {
        "colab": {
          "base_uri": "https://localhost:8080/"
        },
        "id": "6GRgkjundeO5",
        "outputId": "b57da316-fac3-488e-92d9-ee87a605ee3d"
      },
      "execution_count": 19,
      "outputs": [
        {
          "output_type": "stream",
          "name": "stdout",
          "text": [
            "375/375 [==============================] - 1s 3ms/step - loss: 0.2140 - accuracy: 0.9245\n"
          ]
        },
        {
          "output_type": "execute_result",
          "data": {
            "text/plain": [
              "[0.213964581489563, 0.9244999885559082]"
            ]
          },
          "metadata": {},
          "execution_count": 19
        }
      ]
    },
    {
      "cell_type": "markdown",
      "source": [
        "### 새로운 데이터에 대한 예측\n",
        "* 흑백 이미지에는 차원이 없기에 (28, 28, 1)을 (28, 28) 사이즈로 변경해줘야 한다."
      ],
      "metadata": {
        "id": "Tw3EvDx7hrD0"
      }
    },
    {
      "cell_type": "code",
      "source": [
        "plt.imshow(val_scaled[0].reshape(28, 28), cmap='gray_r')\n",
        "plt.show()"
      ],
      "metadata": {
        "colab": {
          "base_uri": "https://localhost:8080/",
          "height": 430
        },
        "id": "OiE2N9-1eC9u",
        "outputId": "a4929657-20a5-4e27-85c0-d566d5888a8b"
      },
      "execution_count": 21,
      "outputs": [
        {
          "output_type": "display_data",
          "data": {
            "text/plain": [
              "<Figure size 640x480 with 1 Axes>"
            ],
            "image/png": "[encoded data removed]"
          },
          "metadata": {}
        }
      ]
    },
    {
      "cell_type": "markdown",
      "source": [
        "**`predict()` : 10개의 클래스에 대한 예측 활률을 출력한다.**\n",
        "* [0:1]과 같이 슬라이싱을 사용한 이유\n",
        "  * 딥러닝 모델이 입력데이터를 배치**(batch)** 단위로 처리하기 때문\n",
        "  * tensorflow, keras 는 모델 입력 데이터의 첫 번쨰 차원을 배치 차원으로 간주한다  \n",
        "    * 이미지 크기가 28 x 28 이고  배치 크기가 32이면 (32, 28, 28) 이 되어야한다."
      ],
      "metadata": {
        "id": "R3c8W0eih-2h"
      }
    },
    {
      "cell_type": "code",
      "source": [
        "pred = model.predict(val_scaled[0:1])\n",
        "print(pred)"
      ],
      "metadata": {
        "colab": {
          "base_uri": "https://localhost:8080/"
        },
        "id": "mW1uETeuhRsa",
        "outputId": "d1c99875-0335-4248-e076-745a79ea9b9e"
      },
      "execution_count": 22,
      "outputs": [
        {
          "output_type": "stream",
          "name": "stdout",
          "text": [
            "1/1 [==============================] - 0s 411ms/step\n",
            "[[4.71207307e-17 2.19246016e-27 1.01762562e-21 6.37872678e-18 2.28345504e-18 1.02842985e-17 9.35125697e-17 1.19741292e-17 1.00000000e+00 1.58988177e-18]]\n"
          ]
        }
      ]
    },
    {
      "cell_type": "markdown",
      "source": [
        " 클래스 9번 째 값이 1에 가장 가깝다\n",
        " -> 해당 이미지는 9번 째 클래스라고 예측하고 있다."
      ],
      "metadata": {
        "id": "eJLCyvfemsyx"
      }
    },
    {
      "cell_type": "code",
      "source": [
        "plt.bar(range(1, 11), pred[0])\n",
        "plt.xlabel('class')\n",
        "plt.ylabel('prob')\n",
        "plt.show()"
      ],
      "metadata": {
        "colab": {
          "base_uri": "https://localhost:8080/",
          "height": 449
        },
        "id": "MLQOyPFpiOPI",
        "outputId": "0393d9d7-ef31-4f35-f4a4-bff6736f4dd4"
      },
      "execution_count": 25,
      "outputs": [
        {
          "output_type": "display_data",
          "data": {
            "text/plain": [
              "<Figure size 640x480 with 1 Axes>"
            ],
            "image/png": "[encoded data removed]"
          },
          "metadata": {}
        }
      ]
    },
    {
      "cell_type": "code",
      "source": [],
      "metadata": {
        "id": "NGNJsc9vjxYe"
      },
      "execution_count": null,
      "outputs": []
    }
  ]
}